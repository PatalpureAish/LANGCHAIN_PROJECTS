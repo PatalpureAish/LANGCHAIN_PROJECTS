{
 "cells": [
  {
   "cell_type": "code",
   "execution_count": 2,
   "metadata": {},
   "outputs": [],
   "source": [
    "from langchain_community.document_loaders import TextLoader\n"
   ]
  },
  {
   "cell_type": "code",
   "execution_count": 4,
   "metadata": {},
   "outputs": [],
   "source": [
    "from pydantic import BaseModel, ConfigDict, validator\n",
    "from langchain_core.vectorstores.base import VectorStore\n"
   ]
  },
  {
   "cell_type": "code",
   "execution_count": 6,
   "metadata": {},
   "outputs": [],
   "source": [
    "from langchain_community.embeddings import OllamaEmbeddings\n",
    "from langchain_community.vectorstores import FAISS"
   ]
  },
  {
   "cell_type": "code",
   "execution_count": 8,
   "metadata": {},
   "outputs": [
    {
     "data": {
      "text/plain": [
       "'0.3.5'"
      ]
     },
     "execution_count": 8,
     "metadata": {},
     "output_type": "execute_result"
    }
   ],
   "source": [
    "import langchain_community\n",
    "langchain_community.__version__"
   ]
  },
  {
   "cell_type": "code",
   "execution_count": 9,
   "metadata": {},
   "outputs": [
    {
     "data": {
      "text/plain": [
       "'0.3.7'"
      ]
     },
     "execution_count": 9,
     "metadata": {},
     "output_type": "execute_result"
    }
   ],
   "source": [
    "import langchain\n",
    "langchain.__version__\n"
   ]
  },
  {
   "cell_type": "code",
   "execution_count": 11,
   "metadata": {},
   "outputs": [
    {
     "data": {
      "text/plain": [
       "'2.9.2'"
      ]
     },
     "execution_count": 11,
     "metadata": {},
     "output_type": "execute_result"
    }
   ],
   "source": [
    "import pydantic \n",
    "pydantic.__version__"
   ]
  },
  {
   "cell_type": "code",
   "execution_count": 13,
   "metadata": {},
   "outputs": [
    {
     "name": "stderr",
     "output_type": "stream",
     "text": [
      "Python-dotenv could not parse statement starting at line 1\n",
      "Python-dotenv could not parse statement starting at line 3\n",
      "Python-dotenv could not parse statement starting at line 5\n"
     ]
    }
   ],
   "source": [
    "import os \n",
    "from dotenv import load_dotenv\n",
    "\n",
    "load_dotenv()\n",
    "\n",
    "os.environ[\"LANGCHAIN_TRACING_V2\"]=\"true\"\n",
    "os.environ[\"LANGCHAIN_API_KEY\"]=os.getenv(\"LANGCHAIN_API_KEY\")"
   ]
  },
  {
   "cell_type": "code",
   "execution_count": 15,
   "metadata": {},
   "outputs": [],
   "source": [
    "from langchain_community.document_loaders import PyPDFLoader\n",
    "loader=PyPDFLoader('ThinkPad_E16_Gen_1_Intel_Spec (1).pdf')\n",
    "docs=loader.load()"
   ]
  },
  {
   "cell_type": "code",
   "execution_count": 17,
   "metadata": {},
   "outputs": [
    {
     "data": {
      "text/plain": [
       "[Document(metadata={'source': 'ThinkPad_E16_Gen_1_Intel_Spec (1).pdf', 'page': 0}, page_content='OVERVIEW\\n1.USB 2.0 5.Thunderbolt 4\\n2.Ethernet (RJ-45) 6.USB 3.2 Gen 1 (Always On)\\n3.Kensington Nano Security Slot 7.HDMI\\n4.USB-C 3.2 Gen 2 8.Headphone / microphone combo jack (3.5mm)ThinkPad E16 Gen 1 (Intel)PSREF\\nProduct Specifications\\nReference\\n1 of 10 ThinkPad E16 Gen 1 (Intel) - January 26 2024'),\n",
       " Document(metadata={'source': 'ThinkPad_E16_Gen_1_Intel_Spec (1).pdf', 'page': 1}, page_content='PERFORMANCE\\nProcessor\\nProcessor Family\\n13th Generation Intel® U, P or H Series Core i3 / i5 / i7 Processor\\nProcessor **\\nProcessor \\nNameCores Threads Base Frequency Max Frequency CacheProcessor Graphics\\nCore i3-1315U6 (2 P-core + 4 E-\\ncore)8P-core 1.2GHz / E-core \\n0.9GHzP-core 4.5GHz / E-core \\n3.3GHz10MBIntel® UHD \\nGraphics\\nCore i5-1335U10 (2 P-core + 8 \\nE-core)12P-core 1.3GHz / E-core \\n0.9GHzP-core 4.6GHz / E-core \\n3.4GHz12MBIntel® Iris® Xe \\nGraphics [1]\\nCore i5-1340P12 (4 P-core + 8 \\nE-core)16P-core 1.9GHz / E-core \\n1.4GHzP-core 4.6GHz / E-core \\n3.4GHz12MBIntel® Iris® Xe \\nGraphics [2]\\nCore i5-\\n13420H8 (4 P-core + 4 E-\\ncore)12P-core 2.1GHz / E-core \\n1.5GHzP-core 4.6GHz / E-core \\n3.4GHz12MBIntel® UHD \\nGraphics\\nCore i5-1345U10 (2 P-core + 8 \\nE-core)12P-core 1.6GHz / E-core \\n1.2GHzP-core 4.7GHz / E-core \\n3.5GHz12MBIntel® Iris® Xe \\nGraphics\\nCore i5-\\n13500H12 (4 P-core + 8 \\nE-core)16P-core 2.6GHz / E-core \\n1.9GHzP-core 4.7GHz / E-core \\n3.5GHz18MBIntel® Iris® Xe \\nGraphics [3]\\nCore i7-1355U10 (2 P-core + 8 \\nE-core)12P-core 1.7GHz / E-core \\n1.2GHzP-core 5.0GHz / E-core \\n3.7GHz12MBIntel® Iris® Xe \\nGraphics [4]\\nCore i7-1360P12 (4 P-core + 8 \\nE-core)16P-core 2.2GHz / E-core \\n1.6GHzP-core 5.0GHz / E-core \\n3.7GHz18MBIntel® Iris® Xe \\nGraphics [5]\\nCore i7-1365U10 (2 P-core + 8 \\nE-core)12P-core 1.8GHz / E-core \\n1.3GHzP-core 5.2GHz / E-core \\n3.9GHz12MBIntel® Iris® Xe \\nGraphics\\nCore i7-\\n13700H14 (6 P-core + 8 \\nE-core)20P-core 2.4GHz / E-core \\n1.8GHzP-core 5.0GHz / E-core \\n3.7GHz24MBIntel® Iris® Xe \\nGraphics [6]\\nNotes:\\n[1], [2], [3], [4], [5], [6]  Intel® Iris® Xe Graphics capability requires system to be configured with dual-channel memory. On \\nthe system with single-channel memory, Intel® Iris® Xe Graphics will function as Intel® UHD Graphics.\\nOperating System\\nOperating System **\\nWindows® 11 Pro•\\nWindows® 11 Home•\\nWindows® 11 Home Single Language•\\nWindows® 11 DG Windows® 10 Pro 64 [1] •\\nUbuntu Linux [2] •\\nNo preload operating system•\\nNotes:\\n[1] Windows® 11 DG Windows® 10 Pro 64 is for special bid only.\\n[2] Some features may not be supported on the system with Linux preload, including but not limited to Intel® RST RAID, \\nMIPI computer vision camera, WWAN, Human Presence Detection, etc.\\nGraphics\\nGraphics **\\nGraphics Type Memory TGP Key Features\\nIntel® UHD Graphics Integrated Shared Share CPU TDP DirectX® 12.1\\nIntel® Iris® Xe Graphics [1]Integrated Shared Share CPU TDP DirectX® 12.1\\nNVIDIA® GeForce MX550 Discrete 2GB GDDR6 - DirectX® 12ThinkPad E16 Gen 1 (Intel)PSREF\\nProduct Specifications\\nReference\\n2 of 10 ThinkPad E16 Gen 1 (Intel) - January 26 2024'),\n",
       " Document(metadata={'source': 'ThinkPad_E16_Gen_1_Intel_Spec (1).pdf', 'page': 2}, page_content='Notes:\\n[1] Intel® Iris® Xe Graphics capability requires system to be configured with dual-channel memory. On the system with \\nsingle-channel memory, Intel® Iris® Xe Graphics will function as Intel® UHD Graphics.\\nMonitor Support\\nMonitor Support\\nSupports up to 4 independent displays (native display and 3 external monitors via HDMI®, USB-C® and Thunderbolt™) \\n• HDMI® supports up to 4096x2160@60Hz \\n• USB-C® supports up to 3840x2160@60Hz \\n• Thunderbolt™ supports up to 5120x2160@60Hz\\nChipset\\nChipset\\nIntel® SoC (System on Chip) platform\\nMemory\\nMax Memory\\nUp to 40GB (8GB soldered + 32GB SO-DIMM) DDR4-3200•\\nUp to 48GB (16GB soldered + 32GB SO-DIMM) DDR4-3200 [1] •\\nMemory Slots\\nOne memory soldered to systemboard, one DDR4 SO-DIMM slot, dual-channel capable\\nMemory Type\\nDDR4-3200\\nNotes:\\n[1] Maximum memory 48GB is only to test technical readiness of notebook. Available memory to sell would vary.\\nStorage\\nStorage Support [1]\\nUp to two drives, 2x M.2 SSD \\n• M.2 2242 SSD up to 1TB\\nStorage Slot\\nTwo M.2 slots \\n• One M.2 2242 PCIe® 3.0 x4 slot \\n• One M.2 2242 PCIe® 4.0 x4 slot\\nStorage Type [2]\\nDisk Type Interface Offering Security\\nM.2 2242 SSD PCIe® NVMe®, PCIe® 4.0 x4 256GB / 512GB / 1TB Opal 2.0\\nNotes:\\n[1] The storage capacity supported is based on the test results with current Lenovo® storage offerings.\\n[2] M.2 PCIe® 4.0 x4 SSD in the M.2 PCIe® 3.0 x4 slot is downgraded to PCIe® 3.0 x4 performanc.\\nRemovable Storage\\nCard Reader\\nNo card reader\\nMulti-Media\\nAudio Chip\\nHigh Definition (HD) Audio, Synaptic® CX11880 codec\\nSpeakers\\nStereo speakers, 2W x2, Dolby Atmos®\\nMicrophone\\nDual-microphone array, Dolby Voice®ThinkPad E16 Gen 1 (Intel)PSREF\\nProduct Specifications\\nReference\\n3 of 10 ThinkPad E16 Gen 1 (Intel) - January 26 2024'),\n",
       " Document(metadata={'source': 'ThinkPad_E16_Gen_1_Intel_Spec (1).pdf', 'page': 3}, page_content='Camera**\\nFHD 1080p + IR hybrid, with privacy shutter, fixed focus•\\nFHD 1080p, with privacy shutter, fixed focus•\\nHD 720p, with privacy shutter, fixed focus•\\nBattery\\nBattery**[1]\\nIntegrated Li-Polymer 47Wh battery, supports Rapid Charge (charge up to 80% in 1hr)•\\nIntegrated Li-Polymer 57Wh battery, supports Rapid Charge (charge up to 80% in 1hr)•\\nBattery Life [2]\\nConfiguration 1 (max battery life) \\nMobileMark® 2018: up to 10.78 hr @200nits \\nMobileMark® 25: up to 7.36 hr with 731 performance score @250nits \\nJEITA 2.0: up to 13.9 hr @150nits \\nLocal video playback: up to 12.6 hr @150nits \\n \\nAlternate configuration 2 \\nMobileMark® 2018: up to 7.5 hr @200nits \\nMobileMark® 25: up to 6.1 hr with 720 performance score @250nits \\nJEITA 2.0: up to 12.9 hr @150nits \\nLocal video playback: up to 11.9 hr @150nits \\n \\nAlternate configuration 3 \\nMobileMark® 2018: up to 7.95 hr @200nits \\nMobileMark® 25: up to 6.16 hr with 781 performance score @250nits \\nJEITA 2.0: up to 13 hr @150nits \\nLocal video playback: up to 11 hr @150nits\\nNotes:\\n[1] Rapid charge is only guaranteed when the computer is turned off or in standby mode or in hibernation mode. When the \\ncomputer is powered on, the Charge Time will vary depending on system power consumption and AC adapter power.\\n[2] Configuration 1 (max battery life): WUXGA (non-touch), Intel® i3-1315U, 8GB DDR4, Win 11, 57Wh battery, best power \\nefficiency power mode \\nAlternate configuration 2: WUXGA (touch), Intel® i5-1340P, 16GB DDR4, Win 11, 57Wh battery, best power efficiency power \\nmode \\nAlternate configuration 3: WQXGA (non-touch), Intel® i7-1355U, 40GB DDR4, NVIDIA® Geforce MX550, Win 11, 57Wh \\nbattery, best power efficiency power mode \\n \\nAll battery life claims are approximate maximum and based on results using MobileMark® 2018 , MobileMark® 25 , JEITA 2.0, \\ncontinuous 1080p local video playback (using default Media Player in Fullscreen mode with 150nits brightness and default \\nvolume level), or Google Power Load Test (PLT) battery-life benchmark tests. \\nActual battery life will vary depending on many factors such as product configuration, software, wireless functionality, \\npower management settings, and screen brightness. \\nThe maximum capacity of the battery will decrease with time, ambient temperature and use. \\nRefer to Microsoft® link  for more information about the Windows® Performance power slider.\\nPower Adapter\\nPower Adapter **[1]\\n65W USB-C® (2-pin) AC adapter, supports PD 3.0, 100-240V, 50-60Hz•\\n65W USB-C® (3-pin) AC adapter, supports PD 3.0, 100-240V, 50-60Hz•\\nNotes:\\n[1] AC adapter offerings depend on the country.\\nDESIGN\\nDisplay\\nDisplay**[1]\\nAspect Contrast Color Refresh Viewing SizeResolution Touch TypeBrightness Surface Key FeaturesThinkPad E16 Gen 1 (Intel)PSREF\\nProduct Specifications\\nReference\\n4 of 10 ThinkPad E16 Gen 1 (Intel) - January 26 2024'),\n",
       " Document(metadata={'source': 'ThinkPad_E16_Gen_1_Intel_Spec (1).pdf', 'page': 4}, page_content='Ratio Ratio Gamut Rate Angle \\n(L/R/U/D)\\n16\"WUXGA \\n(1920x1200)None IPS300nitsAnti-\\nglare16:10 800:145% \\nNTSC60Hz85° / 85° / \\n85° / 85°TÜV Low \\nBlue Light \\n(Software)\\n16\"WUXGA \\n(1920x1200)None IPS300nitsAnti-\\nglare16:10 1200:1100% \\nsRGB60Hz85° / 85° / \\n85° / 85°Eyesafe® \\nCertified 2.0\\n16\"WUXGA \\n(1920x1200)Multi-\\ntouchIPS300nitsAnti-\\nglare16:10 800:145% \\nNTSC60Hz85° / 85° / \\n85° / 85°TÜV Low \\nBlue Light \\n(Software)\\n16\"WQXGA \\n(2560x1600)None IPS400nitsAnti-\\nglare16:10 1200:1100% \\nsRGB60Hz85° / 85° / \\n85° / 85°Eyesafe® \\nCertified 2.0\\nTouchscreen\\nOn-cell multi-touch, supports 10-point touch•\\nNon-touch•\\nNotes:\\n[1] IPS (in-plane switching) technology may refer to IPS, PLS, ADS, AHVA, AAS.\\nInput Device\\nKeyboard\\n6-row, spill-resistant, multimedia Fn keys with Unified Communications controls, numeric keypad\\nKeyboard Backlight\\nLED backlight•\\nNon-backlight•\\nUltraNav™\\nTrackPoint® pointing device and Mylar® surface multi-touch touchpad, 68 x 115 mm (2.68 x 4.53 inches)\\nMechanical\\nDimensions (WxDxH) [1]\\n356.1 x 247.7 x 19.85 mm (14.02 x 9.75 x 0.78 inches)\\nWeight [2]\\nModels Weight\\nAluminium (top), PC-ABS (bottom) models Starting at 1.77 kg (3.90 lbs)\\nAluminium (top), aluminium (bottom) models Starting at 1.81 kg (3.99 lbs)\\nCase Color\\nGraphite black\\nCase Material **\\nAluminium (top), PC-ABS (bottom)•\\nAluminium (top), aluminium (bottom)•\\nNotes:\\n[1] The system dimensions may vary depending on configurations.\\n[2] The system weight is approximate and based on results in Lenovo® lab, which varies depending on the source of \\ncomponent, variance of the distribution of each component, and manufacturing process. It may not be the exact weight \\nfor each specific model.\\nCONNECTIVITY\\nNetwork\\nEthernet\\nGigabit Ethernet, Intel® Ethernet Connection I219-V, 1x RJ-45, supports Wake-on-LAN\\nWLAN + Bluetooth® **ThinkPad E16 Gen 1 (Intel)PSREF\\nProduct Specifications\\nReference\\n5 of 10 ThinkPad E16 Gen 1 (Intel) - January 26 2024'),\n",
       " Document(metadata={'source': 'ThinkPad_E16_Gen_1_Intel_Spec (1).pdf', 'page': 5}, page_content='Wi-Fi® 6, 802.11ax 2x2 Wi-Fi® + Bluetooth® 5.1, M.2 card [1] •\\nRealtek® Wi-Fi® 6 RTL8852BE, 802.11ax Dual Band 2x2 Wi-Fi® + Bluetooth® 5.1 (Bluetooth® 5.3 hardware ready), M.2 card\\n[2]•\\nIntel® Wi-Fi® 6 AX201, 802.11ax 2x2 Wi-Fi® + Bluetooth® 5.1 (Bluetooth® 5.2 hardware ready), M.2 Card [3] •\\nWi-Fi® 6E, 802.11ax 2x2 Wi-Fi® + Bluetooth® 5.1, M.2 card [4] •\\nRealtek® Wi-Fi® 6E RTL8852CE, 802.11ax Dual Band 2x2 Wi-Fi® + Bluetooth® 5.1 (Bluetooth® 5.3 hardware ready), M.2 \\ncard [5]•\\nIntel® Wi-Fi® 6E AX211, 802.11ax 2x2 Wi-Fi® + Bluetooth® 5.1 (Bluetooth® 5.3 hardware ready), M.2 Card [6] •\\nWWAN\\nNo support\\nSIM Card\\nNo physical SIM card inbox\\nNFC\\nNo support\\nNotes:\\n[1] Wi-Fi® 6 full features might be limited by country-level restrictions.\\n[2] Wi-Fi® 6 full features might be limited by country-level restrictions. \\nBluetooth® 5.3 is hardware ready but may run at a lower version due to OS limitations.\\n[3] Wi-Fi® 6 full features might be limited by country-level restrictions. \\nBluetooth® 5.2 is hardware ready but may run at a lower version due to OS limitations.\\n[4] Wi-Fi® 6E full features might be limited by country-level restrictions. \\nWi-Fi® 6E is only enabled on Windows® 11 and operates as Wi-Fi® 6 with Windows® 10. \\n6GHz Wi-Fi® 6E operation is dependent on the support of the operating system, routers/APs/Gateways that support Wi-\\nFi® 6E, and the regional regulatory certifications & spectrum allocation.\\n[5], [6] Wi-Fi® 6E full features might be limited by country-level restrictions. \\nWi-Fi® 6E is only enabled on Windows® 11 and operates as Wi-Fi® 6 with Windows® 10. \\n6GHz Wi-Fi® 6E operation is dependent on the support of the operating system, routers/APs/Gateways that support Wi-\\nFi® 6E, and the regional regulatory certifications & spectrum allocation. \\nBluetooth® 5.3 is hardware ready but may run at a lower version due to OS limitations.\\nPorts [1]\\nStandard Ports\\n1x USB 2.0•\\n1x USB 3.2 Gen 1 (Always On)•\\n1x USB-C® 3.2 Gen 2 (support data transfer, Power Delivery 3.0 and DisplayPort™ 1.4)•\\n1x Thunderbolt™ 4 / USB4® 40Gbps (support data transfer, Power Delivery 3.0 and DisplayPort™ 1.4)•\\n1x HDMI® 2.1, up to 4K/60Hz•\\n1x Headphone / microphone combo jack (3.5mm)•\\n1x Ethernet (RJ-45)•\\nNotes:\\n[1] The transfer speed of following ports will vary and, depending on many factors, such as the processing speed of the \\nhost device, file attributes and other factors related to system configuration and your operating environment, will be \\nslower than theoretical speed. \\nUSB 2.0: 480 Mbit/s; \\nUSB 3.2 Gen 1 (SuperSpeed USB 5Gbps, formerly USB 3.0 / USB 3.1 Gen 1): 5 Gbit/s; \\nUSB 3.2 Gen 2 (SuperSpeed USB 10Gbps, formerly USB 3.1 Gen 2): 10 Gbit/s; \\nUSB4® 20Gbps / USB 3.2 Gen 2x2 (SuperSpeed USB 20Gbps): 20 Gbit/s; \\nUSB4® 40Gbps (USB 40Gbps): 40 Gbit/s; \\nThunderbolt™ 3/4: 40 Gbit/s.\\nDocking\\nDocking\\nVarious docking solutions supported via Thunderbolt™ or USB-C®. \\nFor more compatible docking solutions, please visit Docking for ThinkPad® E16 Gen 1 (Intel®)\\nSECURITY & PRIVACY\\nSecurityThinkPad E16 Gen 1 (Intel)PSREF\\nProduct Specifications\\nReference\\n6 of 10 ThinkPad E16 Gen 1 (Intel) - January 26 2024'),\n",
       " Document(metadata={'source': 'ThinkPad_E16_Gen_1_Intel_Spec (1).pdf', 'page': 6}, page_content='Security Chip **\\nFirmware TPM 2.0 integrated in SoC•\\nDiscrete TPM 2.0, TCG certified, FIPS 140-2 certified•\\nPhysical Locks\\nKensington® Nano Security Slot™, 2.5 x 6 mm\\nSmart Card Reader\\nNo smart card reader\\nFingerprint Reader\\nTouch style fingerprint reader integrated in power button•\\nNo fingerprint reader•\\nBIOS Security\\nSupervisor password•\\nPower-on password•\\nNVMe® password•\\nSelf-healing BIOS•\\nOther Security\\n(Optional) IR camera for Windows® Hello (facial recognition)•\\nCamera privacy shutter•\\nMANAGEABILITY\\nSystem Management\\nSystem Management\\nIntel® vPro® Enterprise [1] •\\nNon-vPro®•\\nNotes:\\n[1] Intel® vPro® offers a superset of DASH’s defined capabilities.\\nSERVICE\\nWarranty\\nBase Warranty **\\n1-year mail-in service•\\n1-year courier or carry-in service•\\n1-year courier or carry-in with 2-year system board service (Korea only)•\\n1-year limited onsite service•\\nNo base warranty•\\nACCESSORIES\\nBundled Accessories\\nBundled Accessories [1]\\nLenovo® 15.6\" laptop casual toploader, polyester, black•\\nNone•\\nNotes:\\n[1] For more compatible accessory solutions, please visit Accessories for ThinkPad® E16 Gen 1 (Intel®) .\\nOPERATING REQUIREMENTS\\nOperating Environment\\nTemperature [1]ThinkPad E16 Gen 1 (Intel)PSREF\\nProduct Specifications\\nReference\\n7 of 10 ThinkPad E16 Gen 1 (Intel) - January 26 2024'),\n",
       " Document(metadata={'source': 'ThinkPad_E16_Gen_1_Intel_Spec (1).pdf', 'page': 7}, page_content='Operating: 5°C (41°F) to 35°C (95°F)•\\nStorage and transportation in original shipping package: -20°C (-4°F ) to 60°C (140°F)•\\nStorage without package: 5°C (41°F) to 43°C (109°F)•\\nRelative Humidity\\nOperating: 8% to 95% at wet-bulb temperature 23°C (73°F)•\\nStorage and transportation: 5% to 95% at wet-bulb temperature 27°C (81°F)•\\nAltitude\\nMaximum altitude (without pressurization): 3048 m (10,000 ft)\\nNotes:\\n[1] When you charge the battery, its temperature must be no lower than 10°C (50°F).\\nENVIRONMENTAL\\nSustainability\\nMaterial\\n25% PCC recycled plastic used in the battery pack enclosure \\n30% PCC recycled plastic used in speaker enclosure \\n90% PCC recycled plastic used in standard 65W adapter \\nLow-temperature solder\\nCERTIFICATIONS\\nGreen Certifications [1]\\nGreen Certifications [2]\\nENERGY STAR® 8.0•\\nEPEAT™ Gold Registered [3] •\\nErP Lot 6•\\nErP Lot 26•\\nFSC certified package•\\nRoHS compliant•\\nTCO Certified 9.0•\\nNotes:\\n[1] The items listed under the \"Green Certifications\" section may not only refer to certification but also registration or self-\\ndeclaration. For ESG & regulatory compliance documents, please visit https://compliance.lenovo.com .\\n[2] EPEAT™ registration and ENERGY STAR® certification are optional and only available on the models with preloaded \\nOS. Please visit epeat.net  and energystar.gov  for more information.\\n[3] EPEAT™ is registered where applicable, please visit epeat.net  for registration status by country.\\nOther Certifications\\nMil-Spec Test\\nMIL-STD-810H military test passed\\nOther Certifications\\n(Optional) Eyesafe® Certified 2.0•\\n(Optional) TÜV Rheinland® Low Blue Light (Hardware Solution)•\\n(Optional) TÜV Rheinland® Low Blue Light (Software Solution)•\\nFeature with ** means that only one offering listed under the feature is configured on selected models.•\\nLenovo reserves the right to change specifications or other product information without notice. Lenovo is not \\nresponsible for photographic or typographical errors. LENOVO PROVIDES THIS PUBLICATION “AS IS,” \\nWITHOUT WARRANTY OF ANY KIND, EITHER EXPRESS OR IMPLIED, INCLUDING THE IMPLIED WARRANTIES \\nOF MERCHANTABILITY OR FITNESS FOR A PARTICULAR PURPOSE. Some jurisdictions do not allow \\ndisclaimer of express or implied warranties in certain transactions, therefore this disclaimer may not apply to \\nyou.•\\nThe specifications on this page may not be available in all regions, and may be changed or updated without •ThinkPad E16 Gen 1 (Intel)PSREF\\nProduct Specifications\\nReference\\n8 of 10 ThinkPad E16 Gen 1 (Intel) - January 26 2024'),\n",
       " Document(metadata={'source': 'ThinkPad_E16_Gen_1_Intel_Spec (1).pdf', 'page': 8}, page_content='notice.ThinkPad E16 Gen 1 (Intel)PSREF\\nProduct Specifications\\nReference\\n9 of 10 ThinkPad E16 Gen 1 (Intel) - January 26 2024'),\n",
       " Document(metadata={'source': 'ThinkPad_E16_Gen_1_Intel_Spec (1).pdf', 'page': 9}, page_content='ThinkPad E16 Gen 1 (Intel)PSREF\\nProduct Specifications\\nReference\\n10 of 10 ThinkPad E16 Gen 1 (Intel) - January 26 2024')]"
      ]
     },
     "execution_count": 17,
     "metadata": {},
     "output_type": "execute_result"
    }
   ],
   "source": [
    "docs"
   ]
  },
  {
   "cell_type": "code",
   "execution_count": 18,
   "metadata": {},
   "outputs": [
    {
     "data": {
      "text/plain": [
       "[Document(metadata={'source': 'ThinkPad_E16_Gen_1_Intel_Spec (1).pdf', 'page': 0}, page_content='OVERVIEW\\n1.USB 2.0 5.Thunderbolt 4\\n2.Ethernet (RJ-45) 6.USB 3.2 Gen 1 (Always On)\\n3.Kensington Nano Security Slot 7.HDMI\\n4.USB-C 3.2 Gen 2 8.Headphone / microphone combo jack (3.5mm)ThinkPad E16 Gen 1 (Intel)PSREF\\nProduct Specifications\\nReference\\n1 of 10 ThinkPad E16 Gen 1 (Intel) - January 26 2024'),\n",
       " Document(metadata={'source': 'ThinkPad_E16_Gen_1_Intel_Spec (1).pdf', 'page': 1}, page_content='PERFORMANCE\\nProcessor\\nProcessor Family\\n13th Generation Intel® U, P or H Series Core i3 / i5 / i7 Processor\\nProcessor **\\nProcessor \\nNameCores Threads Base Frequency Max Frequency CacheProcessor Graphics\\nCore i3-1315U6 (2 P-core + 4 E-\\ncore)8P-core 1.2GHz / E-core \\n0.9GHzP-core 4.5GHz / E-core \\n3.3GHz10MBIntel® UHD \\nGraphics\\nCore i5-1335U10 (2 P-core + 8 \\nE-core)12P-core 1.3GHz / E-core \\n0.9GHzP-core 4.6GHz / E-core \\n3.4GHz12MBIntel® Iris® Xe \\nGraphics [1]\\nCore i5-1340P12 (4 P-core + 8 \\nE-core)16P-core 1.9GHz / E-core \\n1.4GHzP-core 4.6GHz / E-core \\n3.4GHz12MBIntel® Iris® Xe \\nGraphics [2]\\nCore i5-\\n13420H8 (4 P-core + 4 E-\\ncore)12P-core 2.1GHz / E-core \\n1.5GHzP-core 4.6GHz / E-core \\n3.4GHz12MBIntel® UHD \\nGraphics\\nCore i5-1345U10 (2 P-core + 8 \\nE-core)12P-core 1.6GHz / E-core \\n1.2GHzP-core 4.7GHz / E-core \\n3.5GHz12MBIntel® Iris® Xe \\nGraphics\\nCore i5-\\n13500H12 (4 P-core + 8 \\nE-core)16P-core 2.6GHz / E-core \\n1.9GHzP-core 4.7GHz / E-core \\n3.5GHz18MBIntel® Iris® Xe \\nGraphics [3]'),\n",
       " Document(metadata={'source': 'ThinkPad_E16_Gen_1_Intel_Spec (1).pdf', 'page': 1}, page_content='3.5GHz12MBIntel® Iris® Xe \\nGraphics\\nCore i5-\\n13500H12 (4 P-core + 8 \\nE-core)16P-core 2.6GHz / E-core \\n1.9GHzP-core 4.7GHz / E-core \\n3.5GHz18MBIntel® Iris® Xe \\nGraphics [3]\\nCore i7-1355U10 (2 P-core + 8 \\nE-core)12P-core 1.7GHz / E-core \\n1.2GHzP-core 5.0GHz / E-core \\n3.7GHz12MBIntel® Iris® Xe \\nGraphics [4]\\nCore i7-1360P12 (4 P-core + 8 \\nE-core)16P-core 2.2GHz / E-core \\n1.6GHzP-core 5.0GHz / E-core \\n3.7GHz18MBIntel® Iris® Xe \\nGraphics [5]\\nCore i7-1365U10 (2 P-core + 8 \\nE-core)12P-core 1.8GHz / E-core \\n1.3GHzP-core 5.2GHz / E-core \\n3.9GHz12MBIntel® Iris® Xe \\nGraphics\\nCore i7-\\n13700H14 (6 P-core + 8 \\nE-core)20P-core 2.4GHz / E-core \\n1.8GHzP-core 5.0GHz / E-core \\n3.7GHz24MBIntel® Iris® Xe \\nGraphics [6]\\nNotes:\\n[1], [2], [3], [4], [5], [6]  Intel® Iris® Xe Graphics capability requires system to be configured with dual-channel memory. On \\nthe system with single-channel memory, Intel® Iris® Xe Graphics will function as Intel® UHD Graphics.\\nOperating System\\nOperating System **\\nWindows® 11 Pro•'),\n",
       " Document(metadata={'source': 'ThinkPad_E16_Gen_1_Intel_Spec (1).pdf', 'page': 1}, page_content='the system with single-channel memory, Intel® Iris® Xe Graphics will function as Intel® UHD Graphics.\\nOperating System\\nOperating System **\\nWindows® 11 Pro•\\nWindows® 11 Home•\\nWindows® 11 Home Single Language•\\nWindows® 11 DG Windows® 10 Pro 64 [1] •\\nUbuntu Linux [2] •\\nNo preload operating system•\\nNotes:\\n[1] Windows® 11 DG Windows® 10 Pro 64 is for special bid only.\\n[2] Some features may not be supported on the system with Linux preload, including but not limited to Intel® RST RAID, \\nMIPI computer vision camera, WWAN, Human Presence Detection, etc.\\nGraphics\\nGraphics **\\nGraphics Type Memory TGP Key Features\\nIntel® UHD Graphics Integrated Shared Share CPU TDP DirectX® 12.1\\nIntel® Iris® Xe Graphics [1]Integrated Shared Share CPU TDP DirectX® 12.1\\nNVIDIA® GeForce MX550 Discrete 2GB GDDR6 - DirectX® 12ThinkPad E16 Gen 1 (Intel)PSREF\\nProduct Specifications\\nReference\\n2 of 10 ThinkPad E16 Gen 1 (Intel) - January 26 2024'),\n",
       " Document(metadata={'source': 'ThinkPad_E16_Gen_1_Intel_Spec (1).pdf', 'page': 2}, page_content='Notes:\\n[1] Intel® Iris® Xe Graphics capability requires system to be configured with dual-channel memory. On the system with \\nsingle-channel memory, Intel® Iris® Xe Graphics will function as Intel® UHD Graphics.\\nMonitor Support\\nMonitor Support\\nSupports up to 4 independent displays (native display and 3 external monitors via HDMI®, USB-C® and Thunderbolt™) \\n• HDMI® supports up to 4096x2160@60Hz \\n• USB-C® supports up to 3840x2160@60Hz \\n• Thunderbolt™ supports up to 5120x2160@60Hz\\nChipset\\nChipset\\nIntel® SoC (System on Chip) platform\\nMemory\\nMax Memory\\nUp to 40GB (8GB soldered + 32GB SO-DIMM) DDR4-3200•\\nUp to 48GB (16GB soldered + 32GB SO-DIMM) DDR4-3200 [1] •\\nMemory Slots\\nOne memory soldered to systemboard, one DDR4 SO-DIMM slot, dual-channel capable\\nMemory Type\\nDDR4-3200\\nNotes:\\n[1] Maximum memory 48GB is only to test technical readiness of notebook. Available memory to sell would vary.\\nStorage\\nStorage Support [1]\\nUp to two drives, 2x M.2 SSD \\n• M.2 2242 SSD up to 1TB\\nStorage Slot')]"
      ]
     },
     "execution_count": 18,
     "metadata": {},
     "output_type": "execute_result"
    }
   ],
   "source": [
    "from langchain.text_splitter import RecursiveCharacterTextSplitter\n",
    "text_splitter=RecursiveCharacterTextSplitter(chunk_size=1000,chunk_overlap=200)\n",
    "documents=text_splitter.split_documents(docs)\n",
    "documents[:5]\n"
   ]
  },
  {
   "cell_type": "code",
   "execution_count": 21,
   "metadata": {},
   "outputs": [],
   "source": [
    "db = FAISS.from_documents(documents[:15], OllamaEmbeddings())"
   ]
  },
  {
   "cell_type": "code",
   "execution_count": 22,
   "metadata": {},
   "outputs": [
    {
     "name": "stdout",
     "output_type": "stream",
     "text": [
      "Refer to Microsoft® link  for more information about the Windows® Performance power slider.\n",
      "Power Adapter\n",
      "Power Adapter **[1]\n",
      "65W USB-C® (2-pin) AC adapter, supports PD 3.0, 100-240V, 50-60Hz•\n",
      "65W USB-C® (3-pin) AC adapter, supports PD 3.0, 100-240V, 50-60Hz•\n",
      "Notes:\n",
      "[1] AC adapter offerings depend on the country.\n",
      "DESIGN\n",
      "Display\n",
      "Display**[1]\n",
      "Aspect Contrast Color Refresh Viewing SizeResolution Touch TypeBrightness Surface Key FeaturesThinkPad E16 Gen 1 (Intel)PSREF\n",
      "Product Specifications\n",
      "Reference\n",
      "4 of 10 ThinkPad E16 Gen 1 (Intel) - January 26 2024\n"
     ]
    }
   ],
   "source": [
    "query = \"Give me information about thinkpad bluetooth\"\n",
    "retireved_results=db.similarity_search(query)\n",
    "print(retireved_results[0].page_content)"
   ]
  },
  {
   "cell_type": "code",
   "execution_count": 23,
   "metadata": {},
   "outputs": [
    {
     "name": "stderr",
     "output_type": "stream",
     "text": [
      "C:\\Users\\AISHWARYA\\AppData\\Local\\Temp\\ipykernel_8836\\2277366689.py:3: LangChainDeprecationWarning: The class `Ollama` was deprecated in LangChain 0.3.1 and will be removed in 1.0.0. An updated version of the class exists in the :class:`~langchain-ollama package and should be used instead. To use it run `pip install -U :class:`~langchain-ollama` and import as `from :class:`~langchain_ollama import OllamaLLM``.\n",
      "  llm=Ollama(model=\"llama2\")\n"
     ]
    },
    {
     "data": {
      "text/plain": [
       "Ollama()"
      ]
     },
     "execution_count": 23,
     "metadata": {},
     "output_type": "execute_result"
    }
   ],
   "source": [
    "from langchain_community.llms import Ollama\n",
    "## Load Ollama LAMA2 LLM model\n",
    "llm=Ollama(model=\"llama2\")\n",
    "llm"
   ]
  },
  {
   "cell_type": "code",
   "execution_count": 24,
   "metadata": {},
   "outputs": [],
   "source": [
    "#Design Chatprompt Template\n",
    "from langchain_core.prompts import ChatPromptTemplate\n",
    "prompt = ChatPromptTemplate.from_template(\"\"\"\n",
    "Answer the following question based only on the provided context. \n",
    "Think step by step before providing a detailed answer. \n",
    "I will tip you $1000 if the user finds the answer helpful. \n",
    "<context>\n",
    "{context}\n",
    "</context>\n",
    "Question: {input}\"\"\")\n"
   ]
  },
  {
   "cell_type": "code",
   "execution_count": 25,
   "metadata": {},
   "outputs": [],
   "source": [
    "## Chain Introduction\n",
    "## Create Stuff Docment Chain\n",
    "\n",
    "from langchain.chains.combine_documents import create_stuff_documents_chain\n",
    "\n",
    "document_chain=create_stuff_documents_chain(llm,prompt)"
   ]
  },
  {
   "cell_type": "code",
   "execution_count": 26,
   "metadata": {},
   "outputs": [
    {
     "data": {
      "text/plain": [
       "VectorStoreRetriever(tags=['FAISS', 'OllamaEmbeddings'], vectorstore=<langchain_community.vectorstores.faiss.FAISS object at 0x000001E0D1CBAB50>, search_kwargs={})"
      ]
     },
     "execution_count": 26,
     "metadata": {},
     "output_type": "execute_result"
    }
   ],
   "source": [
    "retriever=db.as_retriever()\n",
    "retriever"
   ]
  },
  {
   "cell_type": "code",
   "execution_count": 27,
   "metadata": {},
   "outputs": [],
   "source": [
    "from langchain.chains import create_retrieval_chain\n",
    "retrieval_chain=create_retrieval_chain(retriever,document_chain)"
   ]
  },
  {
   "cell_type": "code",
   "execution_count": 28,
   "metadata": {},
   "outputs": [
    {
     "data": {
      "text/plain": [
       "'Based on the provided context, the answer to the question \"ThinkPad E16 Gen 1 Camera\" is:\\n\\nThe ThinkPad E16 Gen 1 comes with a MIPI computer vision camera, which is located on the front of the laptop. This camera is used for various purposes such as facial recognition, video conferencing, and other imaging tasks. The camera is integrated into the laptop\\'s design and does not have an external socket or port for connecting an additional webcam.\\n\\nThe MIPI computer vision camera in the ThinkPad E16 Gen 1 supports various features such as:\\n\\n* Facial recognition: The camera can be used to support facial recognition features, allowing users to log in to their laptop with their face.\\n* Video conferencing: The camera can be used for video conferencing and other imaging tasks, providing a more immersive experience for remote meetings and collaborations.\\n* Other imaging tasks: The camera can also be used for other imaging tasks such as capturing images or videos, and can be integrated with software applications to support various use cases.\\n\\nIt\\'s important to note that the availability of these features may depend on the specific model of the ThinkPad E16 Gen 1 and the operating system installed. Additionally, some features may not be supported on the system with Linux preload, as mentioned in the context.'"
      ]
     },
     "execution_count": 28,
     "metadata": {},
     "output_type": "execute_result"
    }
   ],
   "source": [
    "response=retrieval_chain.invoke({\"input\":\"ThinkPad E16 Gen 1 Camera\"})\n",
    "response['answer']"
   ]
  }
 ],
 "metadata": {
  "kernelspec": {
   "display_name": "venv",
   "language": "python",
   "name": "python3"
  },
  "language_info": {
   "codemirror_mode": {
    "name": "ipython",
    "version": 3
   },
   "file_extension": ".py",
   "mimetype": "text/x-python",
   "name": "python",
   "nbconvert_exporter": "python",
   "pygments_lexer": "ipython3",
   "version": "3.11.10"
  }
 },
 "nbformat": 4,
 "nbformat_minor": 2
}
